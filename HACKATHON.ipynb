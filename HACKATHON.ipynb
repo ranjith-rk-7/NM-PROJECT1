{
  "nbformat": 4,
  "nbformat_minor": 0,
  "metadata": {
    "colab": {
      "provenance": [],
      "authorship_tag": "ABX9TyNpiu/8cbHHwhy2WT6TAZau",
      "include_colab_link": true
    },
    "kernelspec": {
      "name": "python3",
      "display_name": "Python 3"
    },
    "language_info": {
      "name": "python"
    }
  },
  "cells": [
    {
      "cell_type": "markdown",
      "metadata": {
        "id": "view-in-github",
        "colab_type": "text"
      },
      "source": [
        "<a href=\"https://colab.research.google.com/github/ranjith-rk-7/NM-PROJECT1/blob/main/HACKATHON.ipynb\" target=\"_parent\"><img src=\"https://colab.research.google.com/assets/colab-badge.svg\" alt=\"Open In Colab\"/></a>"
      ]
    },
    {
      "cell_type": "code",
      "execution_count": 2,
      "metadata": {
        "colab": {
          "base_uri": "https://localhost:8080/"
        },
        "id": "FEopfNbsCXaP",
        "outputId": "a2cbebf7-12fe-45eb-ecdf-9d492657b5d9"
      },
      "outputs": [
        {
          "output_type": "stream",
          "name": "stdout",
          "text": [
            "Surprise imported successfully!\n",
            "ZIP extracted!\n",
            "Sample ratings:\n",
            "   userId  movieId  rating\n",
            "0     196      242       3\n",
            "1     186      302       3\n",
            "2      22      377       1\n",
            "3     244       51       2\n",
            "4     166      346       1\n",
            "\n",
            "Sample movies:\n",
            "   movieId              title\n",
            "0        1   Toy Story (1995)\n",
            "1        2   GoldenEye (1995)\n",
            "2        3  Four Rooms (1995)\n",
            "3        4  Get Shorty (1995)\n",
            "4        5     Copycat (1995)\n",
            "\n",
            "Top 5 recommendations for user 196:\n",
            "['Shawshank Redemption, The (1994)', 'Raging Bull (1980)', 'Star Wars (1977)', 'Wrong Trousers, The (1993)', 'Raiders of the Lost Ark (1981)']\n"
          ]
        }
      ],
      "source": [
        "from surprise import Dataset, Reader, SVD\n",
        "print(\"Surprise imported successfully!\")\n",
        "import zipfile\n",
        "import os\n",
        "import pandas as pd\n",
        "from surprise import Dataset, Reader, SVD\n",
        "from surprise.model_selection import train_test_split\n",
        "\n",
        "# 1. Extract the ZIP file (if not extracted yet)\n",
        "zip_path = \"MOVIE.zip\"\n",
        "extract_folder = \"movie_data\"\n",
        "\n",
        "if not os.path.exists(extract_folder):\n",
        "    with zipfile.ZipFile(zip_path, 'r') as zip_ref:\n",
        "        zip_ref.extractall(extract_folder)\n",
        "    print(\"ZIP extracted!\")\n",
        "else:\n",
        "    print(\"Data already extracted.\")\n",
        "\n",
        "# 2. Load ratings and movies data\n",
        "ratings_path = os.path.join(extract_folder, \"ml-100k\", \"u.data\")\n",
        "movies_path = os.path.join(extract_folder, \"ml-100k\", \"u.item\")\n",
        "\n",
        "ratings = pd.read_csv(ratings_path, sep='\\t', names=['userId', 'movieId', 'rating', 'timestamp'])\n",
        "ratings.drop('timestamp', axis=1, inplace=True)\n",
        "\n",
        "movies = pd.read_csv(movies_path, sep='|', encoding='latin-1', header=None, usecols=[0,1], names=['movieId', 'title'])\n",
        "\n",
        "print(\"Sample ratings:\")\n",
        "print(ratings.head())\n",
        "print(\"\\nSample movies:\")\n",
        "print(movies.head())\n",
        "\n",
        "# 3. Prepare dataset for Surprise\n",
        "reader = Reader(rating_scale=(1, 5))\n",
        "data = Dataset.load_from_df(ratings[['userId', 'movieId', 'rating']], reader)\n",
        "\n",
        "trainset, testset = train_test_split(data, test_size=0.2, random_state=42)\n",
        "\n",
        "# 4. Train SVD model\n",
        "model = SVD()\n",
        "model.fit(trainset)\n",
        "\n",
        "# 5. Recommendation function\n",
        "def get_top_n_recommendations(user_id, n=5):\n",
        "    all_movie_ids = movies['movieId'].unique()\n",
        "    rated_movie_ids = ratings[ratings['userId'] == user_id]['movieId'].tolist()\n",
        "    unrated_movie_ids = [mid for mid in all_movie_ids if mid not in rated_movie_ids]\n",
        "\n",
        "    predictions = [model.predict(user_id, mid) for mid in unrated_movie_ids]\n",
        "    predictions.sort(key=lambda x: x.est, reverse=True)\n",
        "\n",
        "    top_n = predictions[:n]\n",
        "    recommended_movies = []\n",
        "    for pred in top_n:\n",
        "        movie_title = movies[movies['movieId'] == pred.iid]['title'].values\n",
        "        if len(movie_title):\n",
        "            recommended_movies.append(movie_title[0])\n",
        "    return recommended_movies\n",
        "\n",
        "# 6. Test recommendations for a user\n",
        "user_to_test = 196\n",
        "print(f\"\\nTop 5 recommendations for user {user_to_test}:\")\n",
        "print(get_top_n_recommendations(user_to_test, n=5))\n"
      ]
    }
  ]
}