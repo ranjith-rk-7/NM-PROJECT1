{
  "cells": [
    {
      "cell_type": "code",
      "execution_count": 4,
      "metadata": {
        "colab": {
          "base_uri": "https://localhost:8080/"
        },
        "id": "sRBno3dVh7O8",
        "outputId": "718f2b48-3b93-4037-b41d-8b60f578de81"
      },
      "outputs": [
        {
          "output_type": "stream",
          "name": "stdout",
          "text": [
            "Classification Report:\n",
            "\n",
            "              precision    recall  f1-score   support\n",
            "\n",
            "        Fake       0.99      0.99      0.99       558\n",
            "        Real       0.99      0.99      0.99       651\n",
            "\n",
            "    accuracy                           0.99      1209\n",
            "   macro avg       0.99      0.99      0.99      1209\n",
            "weighted avg       0.99      0.99      0.99      1209\n",
            "\n",
            "\n",
            "--- News Prediction ---\n",
            "Enter a news article to check if it's real or fake:\n",
            "\n",
            "U.S.military to accept transgender recurits on monday\n",
            "\n",
            "Prediction: This news is 🟢 Real\n"
          ]
        }
      ],
      "source": [
        "\n",
        "\n",
        "# Step 2: Import Libraries\n",
        "import pandas as pd\n",
        "from sklearn.model_selection import train_test_split\n",
        "from sklearn.feature_extraction.text import TfidfVectorizer\n",
        "from sklearn.linear_model import LogisticRegression\n",
        "from sklearn.metrics import classification_report\n",
        "\n",
        "# Step 3: Load and Label Data (skip bad rows)\n",
        "fake_df = pd.read_csv(\"Fake.csv\", engine=\"python\", on_bad_lines='skip')\n",
        "true_df = pd.read_csv(\"True.csv\", engine=\"python\", on_bad_lines='skip')\n",
        "\n",
        "\n",
        "fake_df[\"label\"] = 0  # fake news\n",
        "true_df[\"label\"] = 1  # real news\n",
        "\n",
        "# Step 4: Combine and Shuffle\n",
        "df = pd.concat([fake_df, true_df], ignore_index=True)\n",
        "X = df[\"text\"]\n",
        "y = df[\"label\"]\n",
        "\n",
        "# Step 5: Split the Data\n",
        "\n",
        "X_train, X_test, y_train, y_test = train_test_split(X, y, test_size=0.2, random_state=42)\n",
        "\n",
        "# Step 6: Text Vectorization\n",
        "vectorizer = TfidfVectorizer(stop_words='english', max_df=0.7)\n",
        "X_train_tfidf = vectorizer.fit_transform(X_train)\n",
        "X_test_tfidf = vectorizer.transform(X_test)\n",
        "\n",
        "# Step 7: Train Model\n",
        "model = LogisticRegression()\n",
        "model.fit(X_train_tfidf, y_train)\n",
        "\n",
        "# Step 8: Evaluate\n",
        "y_pred = model.predict(X_test_tfidf)\n",
        "print(\"Classification Report:\\n\")\n",
        "print(classification_report(y_test, y_pred, target_names=[\"Fake\", \"Real\"]))\n",
        "\n",
        "# Step 9: User Input for Prediction\n",
        "print(\"\\n--- News Prediction ---\")\n",
        "user_input = input(\"Enter a news article to check if it's real or fake:\\n\\n\")\n",
        "input_tfidf = vectorizer.transform([user_input])\n",
        "prediction = model.predict(input_tfidf)[0]\n",
        "\n",
        "print(\"\\nPrediction: This news is\", \"🟢 Real\" if prediction == 1 else \"🔴 Fake\")\n",
        "\n"
      ]
    }
  ],
  "metadata": {
    "colab": {
      "provenance": []
    },
    "kernelspec": {
      "display_name": "Python 3",
      "name": "python3"
    },
    "language_info": {
      "name": "python"
    }
  },
  "nbformat": 4,
  "nbformat_minor": 0
}